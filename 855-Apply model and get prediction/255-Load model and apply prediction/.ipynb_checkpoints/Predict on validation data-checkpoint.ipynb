{
 "cells": [
  {
   "cell_type": "code",
   "execution_count": 1,
   "metadata": {},
   "outputs": [],
   "source": [
    "import numpy as np\n",
    "import os"
   ]
  },
  {
   "cell_type": "code",
   "execution_count": 2,
   "metadata": {},
   "outputs": [],
   "source": [
    "import tensorflow as tf\n",
    "from tensorflow import keras\n",
    "from tensorflow.keras.models import Sequential\n",
    "from tensorflow.keras.layers import Dense, Conv2D, Flatten, Dropout, MaxPooling2D\n",
    "from tensorflow.keras.preprocessing.image import ImageDataGenerator"
   ]
  },
  {
   "cell_type": "code",
   "execution_count": 3,
   "metadata": {},
   "outputs": [],
   "source": [
    "from PIL import Image"
   ]
  },
  {
   "cell_type": "code",
   "execution_count": 4,
   "metadata": {},
   "outputs": [],
   "source": [
    "def get_data_path():\n",
    "    return '/Users/thibaultdesfontaines/data'"
   ]
  },
  {
   "cell_type": "code",
   "execution_count": 5,
   "metadata": {},
   "outputs": [
    {
     "name": "stdout",
     "output_type": "stream",
     "text": [
      "2.1.0\n"
     ]
    }
   ],
   "source": [
    "print(tf.version.VERSION)"
   ]
  },
  {
   "cell_type": "code",
   "execution_count": 6,
   "metadata": {},
   "outputs": [],
   "source": [
    "data_dir = os.path.join(get_data_path(), \"leaf-classification\")\n",
    "train_dir = os.path.join(data_dir, 'train_images')\n",
    "validation_dir = os.path.join(data_dir, 'validation_images')\n",
    "test_dir = os.path.join(data_dir, 'test_images')"
   ]
  },
  {
   "cell_type": "code",
   "execution_count": 7,
   "metadata": {
    "scrolled": true
   },
   "outputs": [
    {
     "name": "stdout",
     "output_type": "stream",
     "text": [
      "\u001b[01;34m/Users/thibaultdesfontaines/data/leaf-classification/validation_images\u001b[00m\r\n",
      "├── \u001b[01;34mAcer_Capillipes\u001b[00m\r\n",
      "│   ├── \u001b[01;32m201.jpg\u001b[00m\r\n",
      "│   └── \u001b[01;32m227.jpg\u001b[00m\r\n",
      "├── \u001b[01;34mAcer_Circinatum\u001b[00m\r\n",
      "│   ├── \u001b[01;32m160.jpg\u001b[00m\r\n",
      "│   └── \u001b[01;32m164.jpg\u001b[00m\r\n",
      "├── \u001b[01;34mAcer_Mono\u001b[00m\r\n",
      "│   ├── \u001b[01;32m216.jpg\u001b[00m\r\n",
      "│   └── \u001b[01;32m288.jpg\u001b[00m\r\n",
      "├── \u001b[01;34mAcer_Opalus\u001b[00m\r\n",
      "│   ├── \u001b[01;32m1.jpg\u001b[00m\r\n",
      "│   └── \u001b[01;32m317.jpg\u001b[00m\r\n",
      "├── \u001b[01;34mAcer_Palmatum\u001b[00m\r\n",
      "│   ├── \u001b[01;32m118.jpg\u001b[00m\r\n",
      "│   └── \u001b[01;32m27.jpg\u001b[00m\r\n",
      "├── \u001b[01;34mAcer_Pictum\u001b[00m\r\n",
      "│   ├── \u001b[01;32m146.jpg\u001b[00m\r\n",
      "│   └── \u001b[01;32m311.jpg\u001b[00m\r\n",
      "├── \u001b[01;34mAcer_Platanoids\u001b[00m\r\n",
      "│   ├── \u001b[01;32m322.jpg\u001b[00m\r\n",
      "│   └── \u001b[01;32m38.jpg\u001b[00m\r\n",
      "├── \u001b[01;34mAcer_Rubrum\u001b[00m\r\n",
      "│   ├── \u001b[01;32m238.jpg\u001b[00m\r\n",
      "│   └── \u001b[01;32m698.jpg\u001b[00m\r\n",
      "├── \u001b[01;34mAcer_Rufinerve\u001b[00m\r\n",
      "│   ├── \u001b[01;32m148.jpg\u001b[00m\r\n",
      "│   └── \u001b[01;32m364.jpg\u001b[00m\r\n",
      "├── \u001b[01;34mAcer_Saccharinum\u001b[00m\r\n",
      "│   ├── \u001b[01;32m167.jpg\u001b[00m\r\n",
      "│   └── \u001b[01;32m78.jpg\u001b[00m\r\n",
      "├── \u001b[01;34mAlnus_Cordata\u001b[00m\r\n",
      "│   ├── \u001b[01;32m186.jpg\u001b[00m\r\n",
      "│   └── \u001b[01;32m198.jpg\u001b[00m\r\n",
      "├── \u001b[01;34mAlnus_Maximowiczii\u001b[00m\r\n",
      "│   ├── \u001b[01;32m140.jpg\u001b[00m\r\n",
      "│   └── \u001b[01;32m663.jpg\u001b[00m\r\n",
      "├── \u001b[01;34mAlnus_Rubra\u001b[00m\r\n",
      "│   ├── \u001b[01;32m290.jpg\u001b[00m\r\n",
      "│   └── \u001b[01;32m55.jpg\u001b[00m\r\n",
      "├── \u001b[01;34mAlnus_Sieboldiana\u001b[00m\r\n",
      "│   ├── \u001b[01;32m34.jpg\u001b[00m\r\n",
      "│   └── \u001b[01;32m371.jpg\u001b[00m\r\n",
      "├── \u001b[01;34mAlnus_Viridis\u001b[00m\r\n",
      "│   ├── \u001b[01;32m334.jpg\u001b[00m\r\n",
      "│   └── \u001b[01;32m357.jpg\u001b[00m\r\n",
      "├── \u001b[01;34mArundinaria_Simonii\u001b[00m\r\n",
      "│   ├── \u001b[01;32m196.jpg\u001b[00m\r\n",
      "│   └── \u001b[01;32m37.jpg\u001b[00m\r\n",
      "├── \u001b[01;34mBetula_Austrosinensis\u001b[00m\r\n",
      "│   ├── \u001b[01;32m175.jpg\u001b[00m\r\n",
      "│   └── \u001b[01;32m18.jpg\u001b[00m\r\n",
      "├── \u001b[01;34mBetula_Pendula\u001b[00m\r\n",
      "│   ├── \u001b[01;32m339.jpg\u001b[00m\r\n",
      "│   └── \u001b[01;32m415.jpg\u001b[00m\r\n",
      "├── \u001b[01;34mCallicarpa_Bodinieri\u001b[00m\r\n",
      "│   ├── \u001b[01;32m143.jpg\u001b[00m\r\n",
      "│   └── \u001b[01;32m73.jpg\u001b[00m\r\n",
      "├── \u001b[01;34mCastanea_Sativa\u001b[00m\r\n",
      "│   ├── \u001b[01;32m425.jpg\u001b[00m\r\n",
      "│   └── \u001b[01;32m592.jpg\u001b[00m\r\n",
      "├── \u001b[01;34mCeltis_Koraiensis\u001b[00m\r\n",
      "│   ├── \u001b[01;32m100.jpg\u001b[00m\r\n",
      "│   └── \u001b[01;32m61.jpg\u001b[00m\r\n",
      "├── \u001b[01;34mCercis_Siliquastrum\u001b[00m\r\n",
      "│   ├── \u001b[01;32m58.jpg\u001b[00m\r\n",
      "│   └── \u001b[01;32m88.jpg\u001b[00m\r\n",
      "├── \u001b[01;34mCornus_Chinensis\u001b[00m\r\n",
      "│   ├── \u001b[01;32m42.jpg\u001b[00m\r\n",
      "│   └── \u001b[01;32m450.jpg\u001b[00m\r\n",
      "├── \u001b[01;34mCornus_Controversa\u001b[00m\r\n",
      "│   ├── \u001b[01;32m273.jpg\u001b[00m\r\n",
      "│   └── \u001b[01;32m71.jpg\u001b[00m\r\n",
      "├── \u001b[01;34mCornus_Macrophylla\u001b[00m\r\n",
      "│   ├── \u001b[01;32m217.jpg\u001b[00m\r\n",
      "│   └── \u001b[01;32m463.jpg\u001b[00m\r\n",
      "├── \u001b[01;34mCotinus_Coggygria\u001b[00m\r\n",
      "│   ├── \u001b[01;32m224.jpg\u001b[00m\r\n",
      "│   └── \u001b[01;32m60.jpg\u001b[00m\r\n",
      "├── \u001b[01;34mCrataegus_Monogyna\u001b[00m\r\n",
      "│   ├── \u001b[01;32m218.jpg\u001b[00m\r\n",
      "│   └── \u001b[01;32m366.jpg\u001b[00m\r\n",
      "├── \u001b[01;34mCytisus_Battandieri\u001b[00m\r\n",
      "│   ├── \u001b[01;32m419.jpg\u001b[00m\r\n",
      "│   └── \u001b[01;32m49.jpg\u001b[00m\r\n",
      "├── \u001b[01;34mEucalyptus_Glaucescens\u001b[00m\r\n",
      "│   ├── \u001b[01;32m289.jpg\u001b[00m\r\n",
      "│   └── \u001b[01;32m56.jpg\u001b[00m\r\n",
      "├── \u001b[01;34mEucalyptus_Neglecta\u001b[00m\r\n",
      "│   ├── \u001b[01;32m173.jpg\u001b[00m\r\n",
      "│   └── \u001b[01;32m302.jpg\u001b[00m\r\n",
      "├── \u001b[01;34mEucalyptus_Urnigera\u001b[00m\r\n",
      "│   ├── \u001b[01;32m265.jpg\u001b[00m\r\n",
      "│   └── \u001b[01;32m310.jpg\u001b[00m\r\n",
      "├── \u001b[01;34mFagus_Sylvatica\u001b[00m\r\n",
      "│   ├── \u001b[01;32m25.jpg\u001b[00m\r\n",
      "│   └── \u001b[01;32m45.jpg\u001b[00m\r\n",
      "├── \u001b[01;34mGinkgo_Biloba\u001b[00m\r\n",
      "│   ├── \u001b[01;32m116.jpg\u001b[00m\r\n",
      "│   └── \u001b[01;32m178.jpg\u001b[00m\r\n",
      "├── \u001b[01;34mIlex_Aquifolium\u001b[00m\r\n",
      "│   ├── \u001b[01;32m155.jpg\u001b[00m\r\n",
      "│   └── \u001b[01;32m248.jpg\u001b[00m\r\n",
      "├── \u001b[01;34mIlex_Cornuta\u001b[00m\r\n",
      "│   ├── \u001b[01;32m106.jpg\u001b[00m\r\n",
      "│   └── \u001b[01;32m231.jpg\u001b[00m\r\n",
      "├── \u001b[01;34mLiquidambar_Styraciflua\u001b[00m\r\n",
      "│   ├── \u001b[01;32m124.jpg\u001b[00m\r\n",
      "│   └── \u001b[01;32m219.jpg\u001b[00m\r\n",
      "├── \u001b[01;34mLiriodendron_Tulipifera\u001b[00m\r\n",
      "│   ├── \u001b[01;32m48.jpg\u001b[00m\r\n",
      "│   └── \u001b[01;32m85.jpg\u001b[00m\r\n",
      "├── \u001b[01;34mLithocarpus_Cleistocarpus\u001b[00m\r\n",
      "│   ├── \u001b[01;32m149.jpg\u001b[00m\r\n",
      "│   └── \u001b[01;32m252.jpg\u001b[00m\r\n",
      "├── \u001b[01;34mLithocarpus_Edulis\u001b[00m\r\n",
      "│   ├── \u001b[01;32m233.jpg\u001b[00m\r\n",
      "│   └── \u001b[01;32m241.jpg\u001b[00m\r\n",
      "├── \u001b[01;34mMagnolia_Heptapeta\u001b[00m\r\n",
      "│   ├── \u001b[01;32m214.jpg\u001b[00m\r\n",
      "│   └── \u001b[01;32m328.jpg\u001b[00m\r\n",
      "├── \u001b[01;34mMagnolia_Salicifolia\u001b[00m\r\n",
      "│   ├── \u001b[01;32m256.jpg\u001b[00m\r\n",
      "│   └── \u001b[01;32m8.jpg\u001b[00m\r\n",
      "├── \u001b[01;34mMorus_Nigra\u001b[00m\r\n",
      "│   ├── \u001b[01;32m304.jpg\u001b[00m\r\n",
      "│   └── \u001b[01;32m390.jpg\u001b[00m\r\n",
      "├── \u001b[01;34mOlea_Europaea\u001b[00m\r\n",
      "│   ├── \u001b[01;32m342.jpg\u001b[00m\r\n",
      "│   └── \u001b[01;32m449.jpg\u001b[00m\r\n",
      "├── \u001b[01;34mPhildelphus\u001b[00m\r\n",
      "│   ├── \u001b[01;32m26.jpg\u001b[00m\r\n",
      "│   └── \u001b[01;32m269.jpg\u001b[00m\r\n",
      "├── \u001b[01;34mPopulus_Adenopoda\u001b[00m\r\n",
      "│   ├── \u001b[01;32m294.jpg\u001b[00m\r\n",
      "│   └── \u001b[01;32m30.jpg\u001b[00m\r\n",
      "├── \u001b[01;34mPopulus_Grandidentata\u001b[00m\r\n",
      "│   ├── \u001b[01;32m237.jpg\u001b[00m\r\n",
      "│   └── \u001b[01;32m388.jpg\u001b[00m\r\n",
      "├── \u001b[01;34mPopulus_Nigra\u001b[00m\r\n",
      "│   ├── \u001b[01;32m188.jpg\u001b[00m\r\n",
      "│   └── \u001b[01;32m282.jpg\u001b[00m\r\n",
      "├── \u001b[01;34mPrunus_Avium\u001b[00m\r\n",
      "│   ├── \u001b[01;32m145.jpg\u001b[00m\r\n",
      "│   └── \u001b[01;32m81.jpg\u001b[00m\r\n",
      "├── \u001b[01;34mPrunus_X_Shmittii\u001b[00m\r\n",
      "│   ├── \u001b[01;32m542.jpg\u001b[00m\r\n",
      "│   └── \u001b[01;32m80.jpg\u001b[00m\r\n",
      "├── \u001b[01;34mPterocarya_Stenoptera\u001b[00m\r\n",
      "│   ├── \u001b[01;32m2.jpg\u001b[00m\r\n",
      "│   └── \u001b[01;32m431.jpg\u001b[00m\r\n",
      "├── \u001b[01;34mQuercus_Afares\u001b[00m\r\n",
      "│   ├── \u001b[01;32m134.jpg\u001b[00m\r\n",
      "│   └── \u001b[01;32m21.jpg\u001b[00m\r\n",
      "├── \u001b[01;34mQuercus_Agrifolia\u001b[00m\r\n",
      "│   ├── \u001b[01;32m142.jpg\u001b[00m\r\n",
      "│   └── \u001b[01;32m204.jpg\u001b[00m\r\n",
      "├── \u001b[01;34mQuercus_Alnifolia\u001b[00m\r\n",
      "│   ├── \u001b[01;32m133.jpg\u001b[00m\r\n",
      "│   └── \u001b[01;32m75.jpg\u001b[00m\r\n",
      "├── \u001b[01;34mQuercus_Brantii\u001b[00m\r\n",
      "│   ├── \u001b[01;32m14.jpg\u001b[00m\r\n",
      "│   └── \u001b[01;32m452.jpg\u001b[00m\r\n",
      "├── \u001b[01;34mQuercus_Canariensis\u001b[00m\r\n",
      "│   ├── \u001b[01;32m10.jpg\u001b[00m\r\n",
      "│   └── \u001b[01;32m76.jpg\u001b[00m\r\n",
      "├── \u001b[01;34mQuercus_Castaneifolia\u001b[00m\r\n",
      "│   ├── \u001b[01;32m228.jpg\u001b[00m\r\n",
      "│   └── \u001b[01;32m492.jpg\u001b[00m\r\n",
      "├── \u001b[01;34mQuercus_Cerris\u001b[00m\r\n",
      "│   ├── \u001b[01;32m165.jpg\u001b[00m\r\n",
      "│   └── \u001b[01;32m240.jpg\u001b[00m\r\n",
      "├── \u001b[01;34mQuercus_Chrysolepis\u001b[00m\r\n",
      "│   ├── \u001b[01;32m168.jpg\u001b[00m\r\n",
      "│   └── \u001b[01;32m283.jpg\u001b[00m\r\n",
      "├── \u001b[01;34mQuercus_Coccifera\u001b[00m\r\n",
      "│   ├── \u001b[01;32m22.jpg\u001b[00m\r\n",
      "│   └── \u001b[01;32m69.jpg\u001b[00m\r\n",
      "├── \u001b[01;34mQuercus_Coccinea\u001b[00m\r\n",
      "│   ├── \u001b[01;32m163.jpg\u001b[00m\r\n",
      "│   └── \u001b[01;32m189.jpg\u001b[00m\r\n",
      "├── \u001b[01;34mQuercus_Crassifolia\u001b[00m\r\n",
      "│   ├── \u001b[01;32m129.jpg\u001b[00m\r\n",
      "│   └── \u001b[01;32m63.jpg\u001b[00m\r\n",
      "├── \u001b[01;34mQuercus_Crassipes\u001b[00m\r\n",
      "│   ├── \u001b[01;32m270.jpg\u001b[00m\r\n",
      "│   └── \u001b[01;32m309.jpg\u001b[00m\r\n",
      "├── \u001b[01;34mQuercus_Dolicholepis\u001b[00m\r\n",
      "│   ├── \u001b[01;32m101.jpg\u001b[00m\r\n",
      "│   └── \u001b[01;32m215.jpg\u001b[00m\r\n",
      "├── \u001b[01;34mQuercus_Ellipsoidalis\u001b[00m\r\n",
      "│   ├── \u001b[01;32m344.jpg\u001b[00m\r\n",
      "│   └── \u001b[01;32m445.jpg\u001b[00m\r\n",
      "├── \u001b[01;34mQuercus_Greggii\u001b[00m\r\n",
      "│   ├── \u001b[01;32m654.jpg\u001b[00m\r\n",
      "│   └── \u001b[01;32m82.jpg\u001b[00m\r\n",
      "├── \u001b[01;34mQuercus_Hartwissiana\u001b[00m\r\n",
      "│   ├── \u001b[01;32m3.jpg\u001b[00m\r\n",
      "│   └── \u001b[01;32m66.jpg\u001b[00m\r\n",
      "├── \u001b[01;34mQuercus_Ilex\u001b[00m\r\n",
      "│   ├── \u001b[01;32m267.jpg\u001b[00m\r\n",
      "│   └── \u001b[01;32m35.jpg\u001b[00m\r\n",
      "├── \u001b[01;34mQuercus_Imbricaria\u001b[00m\r\n",
      "│   ├── \u001b[01;32m263.jpg\u001b[00m\r\n",
      "│   └── \u001b[01;32m307.jpg\u001b[00m\r\n",
      "├── \u001b[01;34mQuercus_Infectoria_sub\u001b[00m\r\n",
      "│   ├── \u001b[01;32m664.jpg\u001b[00m\r\n",
      "│   └── \u001b[01;32m851.jpg\u001b[00m\r\n",
      "├── \u001b[01;34mQuercus_Kewensis\u001b[00m\r\n",
      "│   ├── \u001b[01;32m202.jpg\u001b[00m\r\n",
      "│   └── \u001b[01;32m67.jpg\u001b[00m\r\n",
      "├── \u001b[01;34mQuercus_Nigra\u001b[00m\r\n",
      "│   ├── \u001b[01;32m485.jpg\u001b[00m\r\n",
      "│   └── \u001b[01;32m693.jpg\u001b[00m\r\n",
      "├── \u001b[01;34mQuercus_Palustris\u001b[00m\r\n",
      "│   ├── \u001b[01;32m130.jpg\u001b[00m\r\n",
      "│   └── \u001b[01;32m262.jpg\u001b[00m\r\n",
      "├── \u001b[01;34mQuercus_Phellos\u001b[00m\r\n",
      "│   ├── \u001b[01;32m127.jpg\u001b[00m\r\n",
      "│   └── \u001b[01;32m132.jpg\u001b[00m\r\n",
      "├── \u001b[01;34mQuercus_Phillyraeoides\u001b[00m\r\n",
      "│   ├── \u001b[01;32m40.jpg\u001b[00m\r\n",
      "│   └── \u001b[01;32m43.jpg\u001b[00m\r\n",
      "├── \u001b[01;34mQuercus_Pontica\u001b[00m\r\n",
      "│   ├── \u001b[01;32m20.jpg\u001b[00m\r\n",
      "│   └── \u001b[01;32m247.jpg\u001b[00m\r\n",
      "├── \u001b[01;34mQuercus_Pubescens\u001b[00m\r\n",
      "│   ├── \u001b[01;32m245.jpg\u001b[00m\r\n",
      "│   └── \u001b[01;32m29.jpg\u001b[00m\r\n",
      "├── \u001b[01;34mQuercus_Pyrenaica\u001b[00m\r\n",
      "│   ├── \u001b[01;32m194.jpg\u001b[00m\r\n",
      "│   └── \u001b[01;32m72.jpg\u001b[00m\r\n",
      "├── \u001b[01;34mQuercus_Rhysophylla\u001b[00m\r\n",
      "│   ├── \u001b[01;32m375.jpg\u001b[00m\r\n",
      "│   └── \u001b[01;32m481.jpg\u001b[00m\r\n",
      "├── \u001b[01;34mQuercus_Rubra\u001b[00m\r\n",
      "│   ├── \u001b[01;32m11.jpg\u001b[00m\r\n",
      "│   └── \u001b[01;32m356.jpg\u001b[00m\r\n",
      "├── \u001b[01;34mQuercus_Semecarpifolia\u001b[00m\r\n",
      "│   ├── \u001b[01;32m108.jpg\u001b[00m\r\n",
      "│   └── \u001b[01;32m171.jpg\u001b[00m\r\n",
      "├── \u001b[01;34mQuercus_Shumardii\u001b[00m\r\n",
      "│   ├── \u001b[01;32m355.jpg\u001b[00m\r\n",
      "│   └── \u001b[01;32m377.jpg\u001b[00m\r\n",
      "├── \u001b[01;34mQuercus_Suber\u001b[00m\r\n",
      "│   ├── \u001b[01;32m83.jpg\u001b[00m\r\n",
      "│   └── \u001b[01;32m92.jpg\u001b[00m\r\n",
      "├── \u001b[01;34mQuercus_Texana\u001b[00m\r\n",
      "│   ├── \u001b[01;32m109.jpg\u001b[00m\r\n",
      "│   └── \u001b[01;32m438.jpg\u001b[00m\r\n",
      "├── \u001b[01;34mQuercus_Trojana\u001b[00m\r\n",
      "│   ├── \u001b[01;32m31.jpg\u001b[00m\r\n",
      "│   └── \u001b[01;32m84.jpg\u001b[00m\r\n",
      "├── \u001b[01;34mQuercus_Variabilis\u001b[00m\r\n",
      "│   ├── \u001b[01;32m32.jpg\u001b[00m\r\n",
      "│   └── \u001b[01;32m6.jpg\u001b[00m\r\n",
      "├── \u001b[01;34mQuercus_Vulcanica\u001b[00m\r\n",
      "│   ├── \u001b[01;32m323.jpg\u001b[00m\r\n",
      "│   └── \u001b[01;32m695.jpg\u001b[00m\r\n",
      "├── \u001b[01;34mQuercus_x_Hispanica\u001b[00m\r\n",
      "│   ├── \u001b[01;32m345.jpg\u001b[00m\r\n",
      "│   └── \u001b[01;32m350.jpg\u001b[00m\r\n",
      "├── \u001b[01;34mQuercus_x_Turneri\u001b[00m\r\n",
      "│   ├── \u001b[01;32m225.jpg\u001b[00m\r\n",
      "│   └── \u001b[01;32m280.jpg\u001b[00m\r\n",
      "├── \u001b[01;34mRhododendron_x_Russellianum\u001b[00m\r\n",
      "│   ├── \u001b[01;32m103.jpg\u001b[00m\r\n",
      "│   └── \u001b[01;32m54.jpg\u001b[00m\r\n",
      "├── \u001b[01;34mSalix_Fragilis\u001b[00m\r\n",
      "│   ├── \u001b[01;32m15.jpg\u001b[00m\r\n",
      "│   └── \u001b[01;32m620.jpg\u001b[00m\r\n",
      "├── \u001b[01;34mSalix_Intergra\u001b[00m\r\n",
      "│   ├── \u001b[01;32m522.jpg\u001b[00m\r\n",
      "│   └── \u001b[01;32m669.jpg\u001b[00m\r\n",
      "├── \u001b[01;34mSorbus_Aria\u001b[00m\r\n",
      "│   ├── \u001b[01;32m676.jpg\u001b[00m\r\n",
      "│   └── \u001b[01;32m714.jpg\u001b[00m\r\n",
      "├── \u001b[01;34mTilia_Oliveri\u001b[00m\r\n",
      "│   ├── \u001b[01;32m107.jpg\u001b[00m\r\n",
      "│   └── \u001b[01;32m386.jpg\u001b[00m\r\n",
      "├── \u001b[01;34mTilia_Platyphyllos\u001b[00m\r\n",
      "│   ├── \u001b[01;32m183.jpg\u001b[00m\r\n",
      "│   └── \u001b[01;32m239.jpg\u001b[00m\r\n",
      "├── \u001b[01;34mTilia_Tomentosa\u001b[00m\r\n",
      "│   ├── \u001b[01;32m5.jpg\u001b[00m\r\n",
      "│   └── \u001b[01;32m50.jpg\u001b[00m\r\n",
      "├── \u001b[01;34mUlmus_Bergmanniana\u001b[00m\r\n",
      "│   ├── \u001b[01;32m436.jpg\u001b[00m\r\n",
      "│   └── \u001b[01;32m636.jpg\u001b[00m\r\n",
      "├── \u001b[01;34mViburnum_Tinus\u001b[00m\r\n",
      "│   ├── \u001b[01;32m291.jpg\u001b[00m\r\n",
      "│   └── \u001b[01;32m528.jpg\u001b[00m\r\n",
      "├── \u001b[01;34mViburnum_x_Rhytidophylloides\u001b[00m\r\n",
      "│   ├── \u001b[01;32m152.jpg\u001b[00m\r\n",
      "│   └── \u001b[01;32m556.jpg\u001b[00m\r\n",
      "└── \u001b[01;34mZelkova_Serrata\u001b[00m\r\n",
      "    ├── \u001b[01;32m17.jpg\u001b[00m\r\n",
      "    └── \u001b[01;32m336.jpg\u001b[00m\r\n",
      "\r\n",
      "99 directories, 198 files\r\n"
     ]
    }
   ],
   "source": [
    "! tree {validation_dir}"
   ]
  },
  {
   "cell_type": "code",
   "execution_count": 8,
   "metadata": {},
   "outputs": [
    {
     "name": "stdout",
     "output_type": "stream",
     "text": [
      "Number of classes: 99\n"
     ]
    }
   ],
   "source": [
    "CLASS_NAMES = [x for x in sorted(os.listdir(str(train_dir))) if x[0] != '.']\n",
    "CLASS_NAMES = np.array(CLASS_NAMES)\n",
    "print(\"Number of classes: {}\".format(len(CLASS_NAMES)))"
   ]
  },
  {
   "cell_type": "code",
   "execution_count": 9,
   "metadata": {},
   "outputs": [
    {
     "name": "stdout",
     "output_type": "stream",
     "text": [
      "/Users/thibaultdesfontaines/data/training_1/cp.ckpt\n"
     ]
    }
   ],
   "source": [
    "checkpoint_dir = \"/Users/thibaultdesfontaines/data/training_1/\"\n",
    "latest = tf.train.latest_checkpoint(checkpoint_dir)\n",
    "print(\"{}\".format(latest))"
   ]
  },
  {
   "cell_type": "code",
   "execution_count": 10,
   "metadata": {},
   "outputs": [],
   "source": [
    "IMG_HEIGHT = 224\n",
    "IMG_WIDTH = 224"
   ]
  },
  {
   "cell_type": "code",
   "execution_count": 11,
   "metadata": {},
   "outputs": [],
   "source": [
    "def create_model():\n",
    "\n",
    "    model = Sequential([\n",
    "        Conv2D(16, 3, padding='same', activation='relu', input_shape=(IMG_HEIGHT, IMG_WIDTH, 3)),\n",
    "        MaxPooling2D(),\n",
    "        Dropout(0.2),\n",
    "        Conv2D(32, 3, padding='same', activation='relu'),\n",
    "        MaxPooling2D(),\n",
    "        Conv2D(64, 3, padding='same', activation='relu'),\n",
    "        MaxPooling2D(),\n",
    "        Dropout(0.2),\n",
    "        Flatten(),\n",
    "        Dense(512, activation='relu'),\n",
    "        Dense(99)\n",
    "    ])\n",
    "\n",
    "    model.compile(optimizer='adam',\n",
    "                  loss=tf.keras.losses.CategoricalCrossentropy(from_logits=True),\n",
    "                  metrics=['accuracy'])\n",
    "\n",
    "    return model"
   ]
  },
  {
   "cell_type": "code",
   "execution_count": 12,
   "metadata": {},
   "outputs": [
    {
     "name": "stdout",
     "output_type": "stream",
     "text": [
      "Model: \"sequential\"\n",
      "_________________________________________________________________\n",
      "Layer (type)                 Output Shape              Param #   \n",
      "=================================================================\n",
      "conv2d (Conv2D)              (None, 224, 224, 16)      448       \n",
      "_________________________________________________________________\n",
      "max_pooling2d (MaxPooling2D) (None, 112, 112, 16)      0         \n",
      "_________________________________________________________________\n",
      "dropout (Dropout)            (None, 112, 112, 16)      0         \n",
      "_________________________________________________________________\n",
      "conv2d_1 (Conv2D)            (None, 112, 112, 32)      4640      \n",
      "_________________________________________________________________\n",
      "max_pooling2d_1 (MaxPooling2 (None, 56, 56, 32)        0         \n",
      "_________________________________________________________________\n",
      "conv2d_2 (Conv2D)            (None, 56, 56, 64)        18496     \n",
      "_________________________________________________________________\n",
      "max_pooling2d_2 (MaxPooling2 (None, 28, 28, 64)        0         \n",
      "_________________________________________________________________\n",
      "dropout_1 (Dropout)          (None, 28, 28, 64)        0         \n",
      "_________________________________________________________________\n",
      "flatten (Flatten)            (None, 50176)             0         \n",
      "_________________________________________________________________\n",
      "dense (Dense)                (None, 512)               25690624  \n",
      "_________________________________________________________________\n",
      "dense_1 (Dense)              (None, 99)                50787     \n",
      "=================================================================\n",
      "Total params: 25,764,995\n",
      "Trainable params: 25,764,995\n",
      "Non-trainable params: 0\n",
      "_________________________________________________________________\n"
     ]
    },
    {
     "data": {
      "text/plain": [
       "<tensorflow.python.training.tracking.util.CheckpointLoadStatus at 0x13a59ff90>"
      ]
     },
     "execution_count": 12,
     "metadata": {},
     "output_type": "execute_result"
    }
   ],
   "source": [
    "model = create_model()\n",
    "\n",
    "model.summary()\n",
    "\n",
    "model.load_weights(latest)"
   ]
  },
  {
   "cell_type": "code",
   "execution_count": 14,
   "metadata": {},
   "outputs": [],
   "source": [
    "class_0_path = \"/Users/thibaultdesfontaines/data/leaf-classification/validation_images/Acer_Capillipes/\""
   ]
  },
  {
   "cell_type": "code",
   "execution_count": 17,
   "metadata": {},
   "outputs": [],
   "source": [
    "list_ds = tf.data.Dataset.list_files(os.path.join(class_0_path, '*'))"
   ]
  },
  {
   "cell_type": "code",
   "execution_count": 18,
   "metadata": {},
   "outputs": [
    {
     "name": "stdout",
     "output_type": "stream",
     "text": [
      "/Users/thibaultdesfontaines/data/leaf-classification/validation_images/Acer_Capillipes/227.jpg\n",
      "/Users/thibaultdesfontaines/data/leaf-classification/validation_images/Acer_Capillipes/201.jpg\n"
     ]
    }
   ],
   "source": [
    "for f in list_ds.take(5):\n",
    "    print(f.numpy())"
   ]
  },
  {
   "cell_type": "code",
   "execution_count": 19,
   "metadata": {},
   "outputs": [],
   "source": [
    "def decode_img(img):\n",
    "    # convert the compressed string to a 3D uint8 tensor\n",
    "    img = tf.image.decode_jpeg(img, channels=3)\n",
    "    # Use `convert_image_dtype` to convert to floats in the [0,1] range.\n",
    "    img = tf.image.convert_image_dtype(img, tf.float32)\n",
    "    # resize the image to the desired size.\n",
    "    return tf.image.resize(img, [IMG_HEIGHT, IMG_WIDTH])"
   ]
  },
  {
   "cell_type": "code",
   "execution_count": 20,
   "metadata": {},
   "outputs": [],
   "source": [
    "def get_name(file_path):\n",
    "    # convert the path to a list of path components\n",
    "    parts = tf.strings.split(file_path, os.path.sep)\n",
    "    # The second to last is the class-directory\n",
    "    return parts[-1]"
   ]
  },
  {
   "cell_type": "code",
   "execution_count": 21,
   "metadata": {},
   "outputs": [],
   "source": [
    "def process_path(file_path):\n",
    "    name = get_name(file_path)\n",
    "    # load the raw data from the file as a string\n",
    "    img = tf.io.read_file(file_path)\n",
    "    img = decode_img(img)\n",
    "    return img, name"
   ]
  },
  {
   "cell_type": "code",
   "execution_count": 22,
   "metadata": {},
   "outputs": [],
   "source": [
    "AUTOTUNE = tf.data.experimental.AUTOTUNE"
   ]
  },
  {
   "cell_type": "code",
   "execution_count": 23,
   "metadata": {},
   "outputs": [],
   "source": [
    "def prepare_for_training(ds, cache=True, shuffle_buffer_size=1000):\n",
    "    # This is a small dataset, only load it once, and keep it in memory.\n",
    "    # use `.cache(filename)` to cache preprocessing work for datasets that don't\n",
    "    # fit in memory.\n",
    "    if cache:\n",
    "        if isinstance(cache, str):\n",
    "            ds = ds.cache(cache)\n",
    "        else:\n",
    "            ds = ds.cache()\n",
    "\n",
    "    ds = ds.shuffle(buffer_size=shuffle_buffer_size)\n",
    "\n",
    "    # Repeat forever\n",
    "    ds = ds.repeat()\n",
    "\n",
    "    ds = ds.batch(BATCH_SIZE)\n",
    "\n",
    "    # `prefetch` lets the dataset fetch batches in the background while the model\n",
    "    # is training.\n",
    "    ds = ds.prefetch(buffer_size=AUTOTUNE)\n",
    "\n",
    "    return ds"
   ]
  },
  {
   "cell_type": "code",
   "execution_count": 33,
   "metadata": {},
   "outputs": [],
   "source": [
    "BATCH_SIZE = 2"
   ]
  },
  {
   "cell_type": "code",
   "execution_count": 34,
   "metadata": {},
   "outputs": [],
   "source": [
    "labeled_ds = list_ds.map(process_path, num_parallel_calls=AUTOTUNE)"
   ]
  },
  {
   "cell_type": "code",
   "execution_count": 35,
   "metadata": {},
   "outputs": [],
   "source": [
    "train_ds = prepare_for_training(labeled_ds)\n",
    "\n",
    "image_batch, label_batch = next(iter(train_ds))"
   ]
  },
  {
   "cell_type": "code",
   "execution_count": 36,
   "metadata": {},
   "outputs": [
    {
     "data": {
      "text/plain": [
       "<tf.Tensor: shape=(2,), dtype=string, numpy=array(['227.jpg', '201.jpg'], dtype=object)>"
      ]
     },
     "execution_count": 36,
     "metadata": {},
     "output_type": "execute_result"
    }
   ],
   "source": [
    "label_batch"
   ]
  },
  {
   "cell_type": "code",
   "execution_count": 37,
   "metadata": {},
   "outputs": [],
   "source": [
    "# Expecting 0\n",
    "predictions = model.predict_classes(image_batch)"
   ]
  },
  {
   "cell_type": "code",
   "execution_count": 40,
   "metadata": {
    "scrolled": false
   },
   "outputs": [
    {
     "data": {
      "text/plain": [
       "array([94, 11])"
      ]
     },
     "execution_count": 40,
     "metadata": {},
     "output_type": "execute_result"
    }
   ],
   "source": [
    "predictions"
   ]
  }
 ],
 "metadata": {
  "kernelspec": {
   "display_name": "Python 2",
   "language": "python",
   "name": "python2"
  },
  "language_info": {
   "codemirror_mode": {
    "name": "ipython",
    "version": 2
   },
   "file_extension": ".py",
   "mimetype": "text/x-python",
   "name": "python",
   "nbconvert_exporter": "python",
   "pygments_lexer": "ipython2",
   "version": "2.7.16"
  }
 },
 "nbformat": 4,
 "nbformat_minor": 2
}
